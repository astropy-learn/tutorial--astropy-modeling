{
 "cells": [
  {
   "cell_type": "markdown",
   "id": "0",
   "metadata": {},
   "source": [
    "# Tutorial Series on astropy.modeling\n",
    "\n",
    "## Summary\n",
    "This is a set of tutorials on how to use the `astropy.modeling` package to model astronomical data. We will become familiar with the models available in [astropy.modeling](http://docs.astropy.org/en/stable/modeling/), learn how to make a quick fit to some data, and how to define a new model using a [compound model](http://docs.astropy.org/en/stable/modeling/#compound-models) and a custom model.\n"
   ]
  }
 ],
 "metadata": {
  "language_info": {
   "name": "python"
  }
 },
 "nbformat": 4,
 "nbformat_minor": 5
}
